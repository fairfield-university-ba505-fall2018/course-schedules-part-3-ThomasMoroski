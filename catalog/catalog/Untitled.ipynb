{
 "cells": [
  {
   "cell_type": "code",
   "execution_count": 2,
   "metadata": {},
   "outputs": [],
   "source": [
    " import scrapy\n",
    "    \n",
    "class CatalogSpider(scrapy.Spider):\n",
    "        name = \"catalog\"\n",
    "    \n",
    "        def start_requests(self):\n",
    "            urls = ['http://catalog.fairfield.edu/courses/']\n",
    "            for url in urls:\n",
    "                yield scrapy.Request(url=url, callback=self.parse)\n",
    "    \n",
    "        def parse(self, response):\n",
    "            links = response.css('a::attr(href)').re(r'/courses/.+')\n",
    "            \n",
    "            for link in links:\n",
    "                yield response.follow(url=link, callback=self.parse_program)\n",
    "        \n",
    "        def parse_program(self,response):\n",
    "            program_code =response.css('.page-title::text').re_first(r'\\(\\w+\\)').strip('()')\n",
    "            program_name =response.css('.page-title::text').extract_first().split(' (')[0]\n",
    "            extratypes = {'Attributes: ':'attributes','Attribute: ':'attributes',\n",
    "                'Fee:':'fees',\n",
    "                'Corequisite: ':'coreqs','Corequisites: ':'coreqs',\n",
    "                'Prerequisite: ':'prereqs','Prerequisites: ':'prereqs'}\n",
    "            courseblocks = response.css('.courseblock')\n",
    "            for courseblock in courseblocks:\n",
    "                titleblock = courseblock.css('.courseblocktitle strong::text').extract_first()\n",
    "                catalogid = titleblock.split('\\xa0')[0]\n",
    "                coursetitle = titleblock.split('\\xa0')[1]\n",
    "                credits = courseblock.css('.courseblocktitle .credits::text').extract_first()\n",
    "                extratexts = courseblock.css('.courseblockextra *::text').extract()\n",
    "                extras = {'attributes':'','fees':'','coreqs':'','prereqs':''}\n",
    "\n",
    "                typ=\"\"\n",
    "                for etxt in extratexts:\n",
    "                    if etxt in extratypes:\n",
    "                        if typ != \"\":\n",
    "                            extras[extratypes[typ]] = txt.replace('\\xa0',' ').strip()\n",
    "                        typ =etxt\n",
    "                        txt =\"\"\n",
    "                    else:\n",
    "                        txt += etxt\n",
    "                if typ != \"\":\n",
    "                    extras[extratypes[typ]] = txt.replace('\\xa0',' ').strip()\n",
    "                \n",
    "                description = courseblock.css('.courseblockdesc::text').extract_first()\n",
    "                yield {\n",
    "                    'program_code':program_code,\n",
    "                    'program_name':program_name,\n",
    "                    'catalog_id':catalogid,\n",
    "                    'course_title':coursetitle,\n",
    "                    'credits':credits,\n",
    "                    'prereqs':extras['prereqs'],\n",
    "                    'coreqs':extras['coreqs'],\n",
    "                    'fees':extras['fees'],\n",
    "                    'attributes':extras['attributes'],\n",
    "                    'description':description\n",
    "                }"
   ]
  },
  {
   "cell_type": "code",
   "execution_count": null,
   "metadata": {},
   "outputs": [],
   "source": []
  }
 ],
 "metadata": {
  "kernelspec": {
   "display_name": "Python 3",
   "language": "python",
   "name": "python3"
  },
  "language_info": {
   "codemirror_mode": {
    "name": "ipython",
    "version": 3
   },
   "file_extension": ".py",
   "mimetype": "text/x-python",
   "name": "python",
   "nbconvert_exporter": "python",
   "pygments_lexer": "ipython3",
   "version": "3.6.5"
  }
 },
 "nbformat": 4,
 "nbformat_minor": 2
}
